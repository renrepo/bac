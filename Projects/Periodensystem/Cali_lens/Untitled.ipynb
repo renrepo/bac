{
 "cells": [
  {
   "cell_type": "code",
   "execution_count": 3,
   "metadata": {},
   "outputs": [],
   "source": [
    "import numpy as np\n",
    "import matplotlib.pyplot as plt\n",
    "from lmfit.models import VoigtModel, LinearModel, GaussianModel, LorentzianModel\n",
    "\n",
    "from matplotlib import interactive\n",
    "interactive(True)\n",
    "\n",
    "plt.rcParams['figure.figsize'] = 16, 9\n",
    "\n",
    "files = ['au4f7', 'au4p3', 'au5d5', '800' , '1100' , '1300']\n",
    "\n",
    "def read(filename):\n",
    "    data = np.loadtxt(filename + '.txt')\n",
    "    return data\n",
    "\n",
    "def Plotcurves(data):\n",
    "    plt.plot([row[0] for row in data], [row[1] for row in data], 'o', markersize=4, label = 'fsdf')\n",
    "\n",
    "\n",
    "plt.figure(100)\n",
    "#interactive plotting in separate window\n",
    "#%matplotlib qt\n",
    "\n",
    "data = [read(i) for i in files]\n",
    "\n",
    "for i in data:\n",
    "    Plotcurves(i)\n",
    "\n",
    "#plt.figure(200)\n",
    "#plt.plot([69.2,320,531.5,800,1100,1300],[3765,3085,2516,1810,990,440], '-')\n",
    "\n",
    "\n",
    "\n",
    "#mod = Au4f_72 + Au4f_52 + lin  + p1 + p2 + p3 +p4\n",
    "#init = mod.eval(pars, x=energy)\n",
    "#plt.plot(energy, init, 'k--')\n",
    "#yerr=np.sqrt(cps)\n",
    "#plt.errorbar(energy, cps, yerr,fmt=' ', color='lightgreen', label='Messwerte', zorder = 2)\n",
    "#plt.plot(l_au4f7, cps_au4f7, 'o',color='lightgreen' , ms=3, zorder = 1, label='Messwerte')\n",
    "#plt.plot(energy2, cps2, 'o',color='lightgreen' , ms=3, zorder = 1, label='Messwerte')\n",
    "\n",
    "#out = mod.fit(cps , pars, x=energy,weights = 1/yerr)\n",
    "#print(out.fit_report(min_correl=0.25))\n",
    "#out.plot()\n",
    "#plt.plot(energy, out.init_fit, 'k--')\n",
    "#plt.plot(energy, out.best_fit,  '-',lw = 2,color='black', zorder = 3, label = \"Fit\")\n",
    "#plt.legend(loc = 'best')\n",
    "#plt.title('Au 4f, 12.5kV, 20mA, lens 3.8kV (DPS), slit C1, CAE 80? ')\n",
    "#plt.xlabel('E_kin / eV')\n",
    "#plt.ylabel('cps')\n",
    "#svg = savitzky_golay(cps, 51, 5)\n",
    "#plt.plot(energy,svg, color = 'green', lw = 1)\n",
    "plt.savefig('Au4f.pdf')\n",
    "#plt.show()"
   ]
  },
  {
   "cell_type": "code",
   "execution_count": null,
   "metadata": {},
   "outputs": [],
   "source": []
  },
  {
   "cell_type": "code",
   "execution_count": null,
   "metadata": {},
   "outputs": [],
   "source": []
  }
 ],
 "metadata": {
  "kernelspec": {
   "display_name": "Python 3",
   "language": "python",
   "name": "python3"
  },
  "language_info": {
   "codemirror_mode": {
    "name": "ipython",
    "version": 3
   },
   "file_extension": ".py",
   "mimetype": "text/x-python",
   "name": "python",
   "nbconvert_exporter": "python",
   "pygments_lexer": "ipython3",
   "version": "3.7.0"
  }
 },
 "nbformat": 4,
 "nbformat_minor": 2
}
